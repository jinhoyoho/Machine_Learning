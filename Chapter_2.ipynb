{
 "cells": [
  {
   "cell_type": "markdown",
   "id": "3916d3d3-2d0c-4cac-8877-b5e6cf06a84a",
   "metadata": {},
   "source": [
    "# Chapter 2. 사이킷런으로 시작하는 머신러닝"
   ]
  },
  {
   "cell_type": "markdown",
   "id": "76aa1dba-0cf5-4e67-96a9-e34e8250a289",
   "metadata": {},
   "source": [
    "# 1. 사이킷런 소개와 특징"
   ]
  },
  {
   "cell_type": "markdown",
   "id": "115bcca1-c9a8-4d5a-8044-a2fdcda0ca7c",
   "metadata": {},
   "source": [
    "# 2. 첫 번째 머신러닝 만들어 보기 - 붓꽃 품종 예측하기\n",
    "\n",
    "- 지도학습: 명확한 정답이 주어진 데이터를 먼저 학습한 뒤 미지의 정답을 예측하는 방식입니다.\n",
    "- 하이퍼 파라미터: 머신러닝 알고리즘별로 최적의 학습을 위해 직접 입력하는 파라미터들입니다."
   ]
  },
  {
   "cell_type": "code",
   "execution_count": 1,
   "id": "adcd93f4-f1de-4946-92ac-ca1d8bef60a4",
   "metadata": {},
   "outputs": [
    {
     "name": "stdout",
     "output_type": "stream",
     "text": [
      "iris target value:  [0 0 0 0 0 0 0 0 0 0 0 0 0 0 0 0 0 0 0 0 0 0 0 0 0 0 0 0 0 0 0 0 0 0 0 0 0\n",
      " 0 0 0 0 0 0 0 0 0 0 0 0 0 1 1 1 1 1 1 1 1 1 1 1 1 1 1 1 1 1 1 1 1 1 1 1 1\n",
      " 1 1 1 1 1 1 1 1 1 1 1 1 1 1 1 1 1 1 1 1 1 1 1 1 1 1 2 2 2 2 2 2 2 2 2 2 2\n",
      " 2 2 2 2 2 2 2 2 2 2 2 2 2 2 2 2 2 2 2 2 2 2 2 2 2 2 2 2 2 2 2 2 2 2 2 2 2\n",
      " 2 2]\n",
      "iris target name:  ['setosa' 'versicolor' 'virginica']\n",
      "\n",
      "   sepal length (cm)  sepal width (cm)  petal length (cm)  petal width (cm)  \\\n",
      "0                5.1               3.5                1.4               0.2   \n",
      "1                4.9               3.0                1.4               0.2   \n",
      "2                4.7               3.2                1.3               0.2   \n",
      "3                4.6               3.1                1.5               0.2   \n",
      "4                5.0               3.6                1.4               0.2   \n",
      "\n",
      "   label  \n",
      "0      0  \n",
      "1      0  \n",
      "2      0  \n",
      "3      0  \n",
      "4      0  \n"
     ]
    }
   ],
   "source": [
    "# 사이킷런 패키지내의 모듈명은 sklearn으로 시작\n",
    "from sklearn.datasets import load_iris\n",
    "from sklearn.tree import DecisionTreeClassifier\n",
    "from sklearn.model_selection import train_test_split\n",
    "\n",
    "import pandas as pd\n",
    "\n",
    "# load data\n",
    "iris = load_iris()\n",
    "iris_data = iris.data # numpy\n",
    "iris_label = iris.target # numpy\n",
    "\n",
    "print(\"iris target value: \", iris_label)\n",
    "print(\"iris target name: \", iris.target_names)\n",
    "\n",
    "print()\n",
    "\n",
    "# DataFrame으로 변환\n",
    "iris_df = pd.DataFrame(data=iris_data, columns=iris.feature_names)\n",
    "iris_df['label'] = iris.target\n",
    "\n",
    "print(iris_df.head(5))"
   ]
  },
  {
   "cell_type": "code",
   "execution_count": 2,
   "id": "1dc0c473-c00e-476c-87f0-c14387e80591",
   "metadata": {},
   "outputs": [],
   "source": [
    "# train_test_split()을 이용하면 학습 데이터와 테스트 데이터를 test_size 파라미터 입력 값의 비율로 쉽게 분할 가능\n",
    "# numpy data와 label 입력\n",
    "x_train, x_test, y_train, y_test = train_test_split(iris_data, iris_label, test_size = 0.2)"
   ]
  },
  {
   "cell_type": "code",
   "execution_count": 3,
   "id": "8b80c93f-eda4-4d5c-919f-edf9c284c8f1",
   "metadata": {},
   "outputs": [
    {
     "name": "stdout",
     "output_type": "stream",
     "text": [
      "accuracy: 1.0000\n"
     ]
    }
   ],
   "source": [
    "# DecisionTreeClassifier 객체 생성\n",
    "df_clf = DecisionTreeClassifier()\n",
    "\n",
    "# 학습 -> fit 메서드 이용\n",
    "df_clf.fit(x_train, y_train)\n",
    "\n",
    "# 학습이 완료된 객체에서 test 데이터 세트로 예측 -> predict이용\n",
    "pred = df_clf.predict(x_test)\n",
    "\n",
    "# 평가 지표로 정확도 이용\n",
    "from sklearn.metrics import accuracy_score\n",
    "print(\"accuracy: {0:.4f}\".format(accuracy_score(y_test, pred)))"
   ]
  },
  {
   "cell_type": "markdown",
   "id": "6dd7ba54-7e66-4af4-8406-9c3072793d17",
   "metadata": {},
   "source": [
    "1. 데이터 세트 분리: 데이터를 학습 데이터와 테스트 데이터로 분리합니다.\n",
    "2. 모델 학습: 학습 데이터를 기반으로 ML 알고리즘을 적용해 모델을 학습시킵니다.\n",
    "3. 예측 수행: 학습된 ML 모델을 이용해 테스트 데이터의 분류를 예측합니다.\n",
    "4. 평가: 예측된 결괏값과 테스트 데이터의 실제 결과값을 비교해서 ML 모델 성능을 평가합니다."
   ]
  },
  {
   "cell_type": "markdown",
   "id": "4239b55c-255b-43c1-9278-26dacd9adca4",
   "metadata": {},
   "source": [
    "# 3. 사이킷런의 기반 프레임워크 익히기\n",
    "사이킷런은 ML 모델 학습을 위해서 fit()을, 학습된 모델의 예측을 위해 predict() 메서드를 제공합니다.\n",
    "- 분류와 회귀의 다양한 알고리즘을 구현한 모든 사이킷런 클래스는 fit()과 predict()를 제공합니다.\n",
    "- 분류 알고리즘을 구현한 클래스를 Classifier로, 회귀 알고리즘을 구현한 클래스를 Regressor로 부릅니다.\n",
    "- 이 둘(Classifier, Regressor)을 합쳐서 Estimator 클래스라고 부릅니다. 즉, 지도학습의 모든 알고리즘을 구현한 클래스를 통칭해서 Estimator라고 부릅니다.\n",
    "\n",
    "비지도학습인 차원 축소, 클러스터링, 피처 추출(Feature Extraction)등을 구현한 클래스는 fit()과 transform()을 제공합니다.\n",
    "- fit()은 입력 데이터의 형태에 맞춰 데이터를 변환하기 위한 사전 구조를 맞추는 작업을 의미합니다.\n",
    "- fit() 이후 입력 데이터의 차원 변환, 클러스터링, 피처 추출 등의 실제 작업은 transform()으로 수행합니다.\n",
    "- fit()과 transform()을 하나로 결합한 fit_transform()을 제공합니다.\n",
    "\n",
    "\n",
    "머신러닝 모델을 구축하는 주요 프로세스\n",
    "1. 피처의 가공, 변경, 추출을 수행하는 피처 처리(feature processing)\n",
    "2. ML 알고리즘 학습/예측 수행\n",
    "3. 모델 평가의 단계\n",
    "4. 1~3번을 반복적으로 수행하는 것 입니다.\n",
    "\n",
    "\n",
    "데이터 set는 일반적으로 딕셔너리 형태로 되어 있습니다.\n",
    "- data는 feature의 데이터 set을 가리킵니다.\n",
    "- target은 분류 시 label 값이고 회귀일 때는 숫자 결과값 데이터 set입니다.\n",
    "- target_names는 개별 label의 이름을 나타냅니다.\n",
    "- feature_names는 feature의 이름을 나타냅니다.\n",
    "- DESCR은 데이터 set에 대한 설명과 각 feature의 설명을 나타냅니다."
   ]
  },
  {
   "cell_type": "code",
   "execution_count": 4,
   "id": "85971d0c-7030-409a-ac1c-aa1d25e0667d",
   "metadata": {},
   "outputs": [
    {
     "name": "stdout",
     "output_type": "stream",
     "text": [
      "<class 'sklearn.utils._bunch.Bunch'>\n",
      "-----------------------------------------------------------\n",
      "dict_keys(['data', 'target', 'frame', 'target_names', 'DESCR', 'feature_names', 'filename', 'data_module'])\n",
      "-----------------------------------------------------------\n",
      "[0 0 0 0 0 0 0 0 0 0 0 0 0 0 0 0 0 0 0 0 0 0 0 0 0 0 0 0 0 0 0 0 0 0 0 0 0\n",
      " 0 0 0 0 0 0 0 0 0 0 0 0 0 1 1 1 1 1 1 1 1 1 1 1 1 1 1 1 1 1 1 1 1 1 1 1 1\n",
      " 1 1 1 1 1 1 1 1 1 1 1 1 1 1 1 1 1 1 1 1 1 1 1 1 1 1 2 2 2 2 2 2 2 2 2 2 2\n",
      " 2 2 2 2 2 2 2 2 2 2 2 2 2 2 2 2 2 2 2 2 2 2 2 2 2 2 2 2 2 2 2 2 2 2 2 2 2\n",
      " 2 2]\n",
      "<class 'numpy.ndarray'>\n",
      "-----------------------------------------------------------\n",
      "['setosa' 'versicolor' 'virginica']\n",
      "<class 'numpy.ndarray'>\n",
      "-----------------------------------------------------------\n",
      "['sepal length (cm)', 'sepal width (cm)', 'petal length (cm)', 'petal width (cm)']\n",
      "<class 'list'>\n",
      "-----------------------------------------------------------\n",
      ".. _iris_dataset:\n",
      "\n",
      "Iris plants dataset\n",
      "--------------------\n",
      "\n",
      "**Data Set Characteristics:**\n",
      "\n",
      ":Number of Instances: 150 (50 in each of three classes)\n",
      ":Number of Attributes: 4 numeric, predictive attributes and the class\n",
      ":Attribute Information:\n",
      "    - sepal length in cm\n",
      "    - sepal width in cm\n",
      "    - petal length in cm\n",
      "    - petal width in cm\n",
      "    - class:\n",
      "            - Iris-Setosa\n",
      "            - Iris-Versicolour\n",
      "            - Iris-Virginica\n",
      "\n",
      ":Summary Statistics:\n",
      "\n",
      "============== ==== ==== ======= ===== ====================\n",
      "                Min  Max   Mean    SD   Class Correlation\n",
      "============== ==== ==== ======= ===== ====================\n",
      "sepal length:   4.3  7.9   5.84   0.83    0.7826\n",
      "sepal width:    2.0  4.4   3.05   0.43   -0.4194\n",
      "petal length:   1.0  6.9   3.76   1.76    0.9490  (high!)\n",
      "petal width:    0.1  2.5   1.20   0.76    0.9565  (high!)\n",
      "============== ==== ==== ======= ===== ====================\n",
      "\n",
      ":Missing Attribute Values: None\n",
      ":Class Distribution: 33.3% for each of 3 classes.\n",
      ":Creator: R.A. Fisher\n",
      ":Donor: Michael Marshall (MARSHALL%PLU@io.arc.nasa.gov)\n",
      ":Date: July, 1988\n",
      "\n",
      "The famous Iris database, first used by Sir R.A. Fisher. The dataset is taken\n",
      "from Fisher's paper. Note that it's the same as in R, but not as in the UCI\n",
      "Machine Learning Repository, which has two wrong data points.\n",
      "\n",
      "This is perhaps the best known database to be found in the\n",
      "pattern recognition literature.  Fisher's paper is a classic in the field and\n",
      "is referenced frequently to this day.  (See Duda & Hart, for example.)  The\n",
      "data set contains 3 classes of 50 instances each, where each class refers to a\n",
      "type of iris plant.  One class is linearly separable from the other 2; the\n",
      "latter are NOT linearly separable from each other.\n",
      "\n",
      "|details-start|\n",
      "**References**\n",
      "|details-split|\n",
      "\n",
      "- Fisher, R.A. \"The use of multiple measurements in taxonomic problems\"\n",
      "  Annual Eugenics, 7, Part II, 179-188 (1936); also in \"Contributions to\n",
      "  Mathematical Statistics\" (John Wiley, NY, 1950).\n",
      "- Duda, R.O., & Hart, P.E. (1973) Pattern Classification and Scene Analysis.\n",
      "  (Q327.D83) John Wiley & Sons.  ISBN 0-471-22361-1.  See page 218.\n",
      "- Dasarathy, B.V. (1980) \"Nosing Around the Neighborhood: A New System\n",
      "  Structure and Classification Rule for Recognition in Partially Exposed\n",
      "  Environments\".  IEEE Transactions on Pattern Analysis and Machine\n",
      "  Intelligence, Vol. PAMI-2, No. 1, 67-71.\n",
      "- Gates, G.W. (1972) \"The Reduced Nearest Neighbor Rule\".  IEEE Transactions\n",
      "  on Information Theory, May 1972, 431-433.\n",
      "- See also: 1988 MLC Proceedings, 54-64.  Cheeseman et al\"s AUTOCLASS II\n",
      "  conceptual clustering system finds 3 classes in the data.\n",
      "- Many, many more ...\n",
      "\n",
      "|details-end|\n",
      "\n",
      "<class 'str'>\n"
     ]
    }
   ],
   "source": [
    "iris_data = load_iris()\n",
    "\n",
    "print(type(iris_data))\n",
    "\n",
    "print('-----------------------------------------------------------')\n",
    "print(iris_data.keys())\n",
    "\n",
    "print('-----------------------------------------------------------')\n",
    "print(iris_data.target)\n",
    "print(type(iris_data.target))\n",
    "print('-----------------------------------------------------------')\n",
    "\n",
    "print(iris_data.target_names)\n",
    "print(type(iris_data.target_names))\n",
    "print('-----------------------------------------------------------')\n",
    "\n",
    "print(iris_data.feature_names)\n",
    "print(type(iris_data.feature_names))\n",
    "print('-----------------------------------------------------------')\n",
    "\n",
    "print(iris_data.DESCR)\n",
    "print(type(iris_data.DESCR))"
   ]
  },
  {
   "cell_type": "markdown",
   "id": "f6a633b0-5a7b-4208-aa71-ba911928e1da",
   "metadata": {},
   "source": [
    "# 4. Model Selection 모듈 소개\n",
    "\n",
    "사이킷런의 model_selection 모듈은 학습 데이터와 테스트 데이터 세트를 분리하거나 교차 검증 분할 및 평가, 그리고 Estimator의 하이퍼 파라미터를 튜닝하기 위한 다양한 함수와 클래스를 제공합니다.\n",
    "\n",
    "train_test_split()은 첫 번째 파라미터로 피처 데이터 세트, 두 번째 파라미터로 레이블 데이터 세트를 입력받습니다.\n",
    "- test_size: 전체 데이터에서 테스트 데이터 세트 크기를 얼마로 샘플링할 것인가를 결정합니다.(default:0.25)\n",
    "- train_size: 전체 데이터에서 학습용 데이터 세트 크기를 얼마로 샘플링할 것인가를 결정합니다. (test_size를 사용하기 때문에 잘 안씀)\n",
    "- shuffle: 데이터를 분리하기 전에 데이터를 미리 섞을지를 결정합니다.(default: True) 데이터를 분산시켜서 좀 더 효율적인 학습 및 테스트 데이터 세트를 만드는 데 사용됩니다.\n",
    "- random_state: 호출할 때마다 동일한 학습/테스트용 데이터 세트를 생성하기 위해 주어지는 난수 값입니다.\n",
    "- train_test_split()의 반환값은 튜플 형태입니다. 순차적으로 **train** data **feature** dataset, **test** data **feature** dataset, **train** data **label** dataset, **test** data **label** dataset을 반환합니다.\n",
    "\n",
    "학습을 위한 데이터의 양을 일정 수준 이상으로 보장하는 것도 중요하지만 학습된 모델에 대해 **다양한 데이터를 기반으로 예측 성능을 평가**해보는 것도 매우 중요합니다.\n",
    "\n",
    "과적합(Overfitting)은 모델이 학습 데이터에만 과도하게 최적화되어, 실제 예측을 다른 데이터로 수행할 경우에는 예측 성능이 과도하게 떨어지는 것을 말합니다.\n",
    "고정된 학습 데이터와 테스트 데이터로 평가를 하다 보면 테스트 데이터에만 최적의 성능을 발휘할 수 있도록 편향되게 모델을 유도하는 경향이 생깁니다.\n",
    "결국 해당 테스트 데이터에만 overfitting되는 학습 모델이 만들어져 다른 테스트용 데이터가 들어올 경우에는 성능이 저하됩니다.\n",
    "-> 교차 검증을 이용해 문제 해결!\n",
    "\n",
    "- K 폴드 교차 검증: K개의 데이터 폴드 세트를 만들어서 K번만큼 각 폴드 세트에 학습과 검증 평가를 반복적으로 수행하는 방법입니다.\n",
    "EX)\n",
    "1. K가 5인 경우 데이터 세트를 K등분(5등분)합니다.\n",
    "2. 첫 번째 반복에서는 처음부터 4개 등분을 학습 데이터 세트, 마지막 5번째 등분 하나를 검증 데이터 세트로 설정합니다. (학습: 1~4, 검증:5)\n",
    "3. 학습 데이터 세트에서 학습 수행, 검증 데이터 세트에서 평가를 수행합니다.\n",
    "4. 이제 두 번째 반복을 진행합니다. 이때, 학습데이터와 검증 데이터를 변경합니다. (학습: 1~3, 5, 검증: 4)\n",
    "5. 이런식으로 마지막 5번째까지 학습과 검증을 수행합니다.\n",
    "6. K개의 예측 평가를 구했으면 이를 평균해서 K 폴드 평가 결과로 반영하면 됩니다."
   ]
  },
  {
   "cell_type": "code",
   "execution_count": 5,
   "id": "d70f7d2e-5e2b-4ca8-a674-3c486ec1a078",
   "metadata": {},
   "outputs": [
    {
     "name": "stdout",
     "output_type": "stream",
     "text": [
      "\n",
      " 1 교차 검증 정확도: 1.0, 학습 데이터 크기120, 검증 데이터 크기:30\n",
      "#1 검증 세트 인덱스:[ 0  1  2  3  4  5  6  7  8  9 10 11 12 13 14 15 16 17 18 19 20 21 22 23\n",
      " 24 25 26 27 28 29]\n",
      "\n",
      " 2 교차 검증 정확도: 0.9667, 학습 데이터 크기120, 검증 데이터 크기:30\n",
      "#2 검증 세트 인덱스:[30 31 32 33 34 35 36 37 38 39 40 41 42 43 44 45 46 47 48 49 50 51 52 53\n",
      " 54 55 56 57 58 59]\n",
      "\n",
      " 3 교차 검증 정확도: 0.8667, 학습 데이터 크기120, 검증 데이터 크기:30\n",
      "#3 검증 세트 인덱스:[60 61 62 63 64 65 66 67 68 69 70 71 72 73 74 75 76 77 78 79 80 81 82 83\n",
      " 84 85 86 87 88 89]\n",
      "\n",
      " 4 교차 검증 정확도: 0.9333, 학습 데이터 크기120, 검증 데이터 크기:30\n",
      "#4 검증 세트 인덱스:[ 90  91  92  93  94  95  96  97  98  99 100 101 102 103 104 105 106 107\n",
      " 108 109 110 111 112 113 114 115 116 117 118 119]\n",
      "\n",
      " 5 교차 검증 정확도: 0.7333, 학습 데이터 크기120, 검증 데이터 크기:30\n",
      "#5 검증 세트 인덱스:[120 121 122 123 124 125 126 127 128 129 130 131 132 133 134 135 136 137\n",
      " 138 139 140 141 142 143 144 145 146 147 148 149]\n",
      "\n",
      " 평균 검증 정확도: 0.9\n"
     ]
    },
    {
     "data": {
      "image/png": "[encoded data removed]",
      "text/plain": [
       "<Figure size 640x480 with 1 Axes>"
      ]
     },
     "metadata": {},
     "output_type": "display_data"
    }
   ],
   "source": [
    "from sklearn.model_selection import KFold\n",
    "import numpy as np\n",
    "import matplotlib.pyplot as plt\n",
    "\n",
    "iris = load_iris()\n",
    "features = iris.data\n",
    "label = iris.target\n",
    "dt_clf = DecisionTreeClassifier()\n",
    "\n",
    "# 5개의 폴드 세트로 분리하는 KFold 객체 생성\n",
    "kfold = KFold(n_splits=5)\n",
    "cv_accuracy=[]\n",
    "\n",
    "n_iter = 0\n",
    "\n",
    "# KFold 객체의 split()호출 시, 폴드 별 학습용, 검증용 테스트의 로우 인덱스를 array로 반환\n",
    "for train_index, test_index in kfold.split(features):\n",
    "    # index를 이용해 학습용, 검증용 테스트 데이터 추출\n",
    "    x_train, x_test = features[train_index], features[test_index]\n",
    "    y_train, y_test = label[train_index], label[test_index]\n",
    "\n",
    "    # 학습 및 예측\n",
    "    dt_clf.fit(x_train, y_train)\n",
    "    pred = dt_clf.predict(x_test)\n",
    "    n_iter += 1\n",
    "\n",
    "    accuracy = np.round(accuracy_score(y_test, pred), 4)\n",
    "    train_size = x_train.shape[0]\n",
    "    test_size = x_test.shape[0]\n",
    "\n",
    "    print('\\n {0} 교차 검증 정확도: {1}, 학습 데이터 크기{2}, 검증 데이터 크기:{3}'.format(n_iter, accuracy, train_size, test_size), end='\\n')\n",
    "    print('#{0} 검증 세트 인덱스:{1}'.format(n_iter, test_index)) # 교차 검증 마다 인덱스가 달라짐\n",
    "\n",
    "    cv_accuracy.append(accuracy)\n",
    "\n",
    "\n",
    "print('\\n 평균 검증 정확도:', np.mean(cv_accuracy))\n",
    "\n",
    "\n",
    "plt.figure()\n",
    "plt.title('accuracy')\n",
    "plt.plot(cv_accuracy)\n",
    "plt.show()"
   ]
  },
  {
   "cell_type": "markdown",
   "id": "d8c29abe-9762-4fff-968b-e7ce9bbd24f9",
   "metadata": {},
   "source": [
    "Stratified K 폴드: 불균형한 분포도를 가진 label 데이터 집합을 위한 K 폴드 방식입니다.\n",
    "- 불균형한 분포도를 가진 레이블 데이터 집합은 특정 레이블 값이 특이하게 많거나 매우 적어서 분포가 한쪽으로 치우치는 것을 말합니다.\n",
    "\n",
    "작은 비율로 1 레이블 값이 있다면 K 폴드로 랜덤하게 학습 및 테스트 세트의 인덱스를 고르더라도 레이블 값인 0과 1의 비율을 제대로 반영하지 못하는 경우가 쉽게 발생합니다.\n",
    "즉, 레이블 값으로 1이 특정 개별 반복별 학습/테스트 데이터 세트에는 상대적으로 많이 들어 있고, 다른 반복 학습/테스트 데이터 세트에는 그렇지 못한 결과가 발생합니다.\n",
    "ex) 대출 사기 레이블의 경우 건수는 작지만 중요한 피처 값을 가지고 있습니다.\n",
    "\n",
    "**원본 데이터의 레이블 분포를 먼저 고려한 후** 이 분포와 동일하게 학습과 검증 데이터 세트를 분배합니다."
   ]
  },
  {
   "cell_type": "code",
   "execution_count": 6,
   "id": "66ea73c3-9774-4379-ae6c-2715d0190a16",
   "metadata": {},
   "outputs": [
    {
     "name": "stdout",
     "output_type": "stream",
     "text": [
      "교차 검증:1\n",
      "학습 레이블 데이터 분포:\n",
      " label\n",
      "2    34\n",
      "0    33\n",
      "1    33\n",
      "Name: count, dtype: int64\n",
      "검증 레이블 데이터 분포:\n",
      " label\n",
      "0    17\n",
      "1    17\n",
      "2    16\n",
      "Name: count, dtype: int64\n",
      "------------------------------------\n",
      "교차 검증:2\n",
      "학습 레이블 데이터 분포:\n",
      " label\n",
      "1    34\n",
      "0    33\n",
      "2    33\n",
      "Name: count, dtype: int64\n",
      "검증 레이블 데이터 분포:\n",
      " label\n",
      "0    17\n",
      "2    17\n",
      "1    16\n",
      "Name: count, dtype: int64\n",
      "------------------------------------\n",
      "교차 검증:3\n",
      "학습 레이블 데이터 분포:\n",
      " label\n",
      "0    34\n",
      "1    33\n",
      "2    33\n",
      "Name: count, dtype: int64\n",
      "검증 레이블 데이터 분포:\n",
      " label\n",
      "1    17\n",
      "2    17\n",
      "0    16\n",
      "Name: count, dtype: int64\n",
      "------------------------------------\n"
     ]
    }
   ],
   "source": [
    "from sklearn.model_selection import StratifiedKFold\n",
    "\n",
    "skf = StratifiedKFold(n_splits=3)\n",
    "n_iter = 0\n",
    "\n",
    "for train_index, test_index in skf.split(iris_df, iris_df['label']):\n",
    "    n_iter += 1\n",
    "    label_train = iris_df['label'].iloc[train_index]\n",
    "    label_test = iris_df['label'].iloc[test_index]\n",
    "    print(\"교차 검증:{0}\".format(n_iter))\n",
    "    print(\"학습 레이블 데이터 분포:\\n\", label_train.value_counts())\n",
    "    print(\"검증 레이블 데이터 분포:\\n\", label_test.value_counts())\n",
    "    print('------------------------------------')"
   ]
  },
  {
   "cell_type": "code",
   "execution_count": 7,
   "id": "dc171a30-12b4-4c4c-a1ed-f689ae45ac69",
   "metadata": {},
   "outputs": [
    {
     "name": "stdout",
     "output_type": "stream",
     "text": [
      "\n",
      "#1 교차 검증 정확도: 0.98, 학습 데이터 크기100, 검증 데이터 크기:50\n",
      "#1 검증 세트 인덱스:[  0   1   2   3   4   5   6   7   8   9  10  11  12  13  14  15  16  50\n",
      "  51  52  53  54  55  56  57  58  59  60  61  62  63  64  65  66 100 101\n",
      " 102 103 104 105 106 107 108 109 110 111 112 113 114 115]\n",
      "\n",
      "#2 교차 검증 정확도: 0.92, 학습 데이터 크기100, 검증 데이터 크기:50\n",
      "#2 검증 세트 인덱스:[ 17  18  19  20  21  22  23  24  25  26  27  28  29  30  31  32  33  67\n",
      "  68  69  70  71  72  73  74  75  76  77  78  79  80  81  82 116 117 118\n",
      " 119 120 121 122 123 124 125 126 127 128 129 130 131 132]\n",
      "\n",
      "#3 교차 검증 정확도: 0.98, 학습 데이터 크기100, 검증 데이터 크기:50\n",
      "#3 검증 세트 인덱스:[ 34  35  36  37  38  39  40  41  42  43  44  45  46  47  48  49  83  84\n",
      "  85  86  87  88  89  90  91  92  93  94  95  96  97  98  99 133 134 135\n",
      " 136 137 138 139 140 141 142 143 144 145 146 147 148 149]\n",
      "\n",
      " 평균 검증 정확도: 0.96\n"
     ]
    },
    {
     "data": {
      "image/png": "[encoded data removed]",
      "text/plain": [
       "<Figure size 640x480 with 1 Axes>"
      ]
     },
     "metadata": {},
     "output_type": "display_data"
    }
   ],
   "source": [
    "from sklearn.model_selection import KFold\n",
    "import numpy as np\n",
    "import matplotlib.pyplot as plt\n",
    "\n",
    "iris = load_iris()\n",
    "features = iris.data\n",
    "label = iris.target\n",
    "dt_clf = DecisionTreeClassifier()\n",
    "\n",
    "# 5개의 폴드 세트로 분리하는 KFold 객체 생성\n",
    "skfold = StratifiedKFold(n_splits=3)\n",
    "cv_accuracy=[]\n",
    "\n",
    "n_iter = 0\n",
    "\n",
    "# KFold 객체의 split()호출 시, 폴드 별 학습용, 검증용 테스트의 로우 인덱스를 array로 반환\n",
    "for train_index, test_index in skfold.split(features, label):\n",
    "    # index를 이용해 학습용, 검증용 테스트 데이터 추출\n",
    "    x_train, x_test = features[train_index], features[test_index]\n",
    "    y_train, y_test = label[train_index], label[test_index]\n",
    "\n",
    "    # 학습 및 예측\n",
    "    dt_clf.fit(x_train, y_train)\n",
    "    pred = dt_clf.predict(x_test)\n",
    "    n_iter += 1\n",
    "\n",
    "    accuracy = np.round(accuracy_score(y_test, pred), 4)\n",
    "    train_size = x_train.shape[0]\n",
    "    test_size = x_test.shape[0]\n",
    "\n",
    "    print('\\n#{0} 교차 검증 정확도: {1}, 학습 데이터 크기{2}, 검증 데이터 크기:{3}'.format(n_iter, accuracy, train_size, test_size), end='\\n')\n",
    "    print('#{0} 검증 세트 인덱스:{1}'.format(n_iter, test_index)) # 교차 검증 마다 인덱스가 달라짐\n",
    "\n",
    "    cv_accuracy.append(accuracy)\n",
    "\n",
    "\n",
    "print('\\n 평균 검증 정확도:', np.mean(cv_accuracy))\n",
    "\n",
    "\n",
    "plt.figure()\n",
    "plt.title('accuracy')\n",
    "plt.plot(cv_accuracy)\n",
    "plt.show()"
   ]
  },
  {
   "cell_type": "markdown",
   "id": "0a26bb82-d07e-4ff6-a483-a440e7108994",
   "metadata": {},
   "source": [
    "**왜곡된 레이블 데이터 세트에서는 반드시 Stratified K 폴드를 이용해 교차 검증을 해야합니다.**\n",
    "\n",
    "분류 -> Stratified K 폴드\n",
    "\n",
    "회귀 -> K 폴드\n",
    "\n",
    "단순하게 생각하면 회귀는 연속적인 값이기 때문에 결정값별로 분포를 정하는 의미가 없습니다.\n",
    "\n",
    "\n",
    "1. 폴드 세트를 설정\n",
    "2. for 루프에서 반복으로 학습 및 테스트 데이터의 인덱스를 추출\n",
    "3. 반복적으로 학습과 예측을 수행하고 예측 성능 반환\n",
    "\n",
    "이 1, 2, 3번의 과정을 한꺼번에 수행해주는 API가 cross_val_score() 입니다."
   ]
  },
  {
   "cell_type": "code",
   "execution_count": 8,
   "id": "396d92fe-119c-4126-b717-31a382f93015",
   "metadata": {},
   "outputs": [
    {
     "name": "stdout",
     "output_type": "stream",
     "text": [
      "교차 검증별 정확도:  [0.98 0.94 1.  ]\n",
      "평균 검증 정확도:  0.9733333333333333\n"
     ]
    }
   ],
   "source": [
    "from sklearn.model_selection import cross_val_score, cross_validate\n",
    "\n",
    "data = iris_data.data\n",
    "label = iris_data.target\n",
    "\n",
    "# 성능 지표는 정확도, 교차 검증 세트는 3개\n",
    "# parameter는 estimator, dataset, labelset, scoring, cv(교차 검증 폴드 수)\n",
    "scores = cross_val_score(dt_clf, data, label, scoring='accuracy', cv=3)\n",
    "print(\"교차 검증별 정확도: \", np.round(scores, 4))\n",
    "print(\"평균 검증 정확도: \", np.mean(scores))"
   ]
  },
  {
   "cell_type": "markdown",
   "id": "0598e55c-f319-4949-8753-7dc832af67f9",
   "metadata": {},
   "source": [
    "cross_val_score()는 **classifier가 입력되면 Stratified K 폴드** 방식으로 레이블값의 분포에 따라 학습/테스트 세트를 분할합니다.\n",
    "회귀인 경우에는 K 폴드 방식으로 분할합니다.\n",
    "\n",
    "cv로 지정된 횟수만큼 scoring 파라미터로 지정된 평가 지표로 평가 결과값을 배열로 반환합니다. 그리고 이를 평균해 평가 수치로 사용합니다.\n",
    "\n",
    "cross_validate()는 여러 개의 평가 지표를 반환할 수 있습니다. 성능 평가 지표와 수행시간도 같이 제공합니다.\n",
    "\n",
    "GridSearchCV API를 이용해 알고리즘에 사용되는 하이퍼 파라미터를 순차적으로 입력하면서 편리하게 최적의 파라미터를 도출할 수 있습니다."
   ]
  },
  {
   "cell_type": "code",
   "execution_count": 9,
   "id": "24027070-0993-483f-9fd8-cecab8129220",
   "metadata": {},
   "outputs": [],
   "source": [
    "# 파라미터의 집합을 만들고 이를 순차적으로 적용\n",
    "grid_parameter = {'max_depth':[1,2,3], 'min_samples_split':[2, 3]}"
   ]
  },
  {
   "cell_type": "markdown",
   "id": "126b0cbb-70cb-4aa0-96e3-1d6d0472bb6b",
   "metadata": {},
   "source": [
    "GridSearchCV는 데이터 세트를 cross-validation을 위한 학습/테스트 세트로 자동으로 분할한 뒤에 하이퍼 파라미터 그리드에 기술된 모든 파라미터를 순차적으로 적용해 최적의 파라미터를 찾을 수 있게 합니다. 수행시간이 상대적으로 오래 걸릴 수 있습니다.\n",
    "\n",
    "주요 파라미터\n",
    "- estimator: classifier, regressor, pipeline 등\n",
    "- param_grid: key+리스트 값을 가지는 딕셔너리가 주어집니다. 파라미터명과 값을 지정해줍니다.\n",
    "- scoring: 성능을 측정할 평가 방법을 지정합니다.\n",
    "- cv: 교차 검증을 위해 분할되는 학습/테스트 세트의 개수를 지정합니다.\n",
    "- refit: True시 가장 최적의 하이퍼 파라미터를 찾은 뒤 입력된 estimator 객체를 해당 하이퍼 파라미터로 재학습합니다.(default:True)"
   ]
  },
  {
   "cell_type": "code",
   "execution_count": 10,
   "id": "1ec06e78-8920-4b8e-9144-c993d13c3143",
   "metadata": {},
   "outputs": [
    {
     "name": "stdout",
     "output_type": "stream",
     "text": [
      "GridSearchCV 최적 파라미터: {'max_depth': 2, 'min_samples_split': 2}\n",
      "GridSearchCV 최고 정확도:0.9500\n"
     ]
    },
    {
     "data": {
      "text/html": [
       "<div>\n",
       "<style scoped>\n",
       "    .dataframe tbody tr th:only-of-type {\n",
       "        vertical-align: middle;\n",
       "    }\n",
       "\n",
       "    .dataframe tbody tr th {\n",
       "        vertical-align: top;\n",
       "    }\n",
       "\n",
       "    .dataframe thead th {\n",
       "        text-align: right;\n",
       "    }\n",
       "</style>\n",
       "<table border=\"1\" class=\"dataframe\">\n",
       "  <thead>\n",
       "    <tr style=\"text-align: right;\">\n",
       "      <th></th>\n",
       "      <th>params</th>\n",
       "      <th>mean_test_score</th>\n",
       "      <th>rank_test_score</th>\n",
       "      <th>split0_test_score</th>\n",
       "      <th>split1_test_score</th>\n",
       "      <th>split2_test_score</th>\n",
       "    </tr>\n",
       "  </thead>\n",
       "  <tbody>\n",
       "    <tr>\n",
       "      <th>0</th>\n",
       "      <td>{'max_depth': 1, 'min_samples_split': 2}</td>\n",
       "      <td>0.675000</td>\n",
       "      <td>5</td>\n",
       "      <td>0.675</td>\n",
       "      <td>0.675</td>\n",
       "      <td>0.675</td>\n",
       "    </tr>\n",
       "    <tr>\n",
       "      <th>1</th>\n",
       "      <td>{'max_depth': 1, 'min_samples_split': 3}</td>\n",
       "      <td>0.675000</td>\n",
       "      <td>5</td>\n",
       "      <td>0.675</td>\n",
       "      <td>0.675</td>\n",
       "      <td>0.675</td>\n",
       "    </tr>\n",
       "    <tr>\n",
       "      <th>2</th>\n",
       "      <td>{'max_depth': 2, 'min_samples_split': 2}</td>\n",
       "      <td>0.950000</td>\n",
       "      <td>1</td>\n",
       "      <td>0.975</td>\n",
       "      <td>0.925</td>\n",
       "      <td>0.950</td>\n",
       "    </tr>\n",
       "    <tr>\n",
       "      <th>3</th>\n",
       "      <td>{'max_depth': 2, 'min_samples_split': 3}</td>\n",
       "      <td>0.950000</td>\n",
       "      <td>1</td>\n",
       "      <td>0.975</td>\n",
       "      <td>0.925</td>\n",
       "      <td>0.950</td>\n",
       "    </tr>\n",
       "    <tr>\n",
       "      <th>4</th>\n",
       "      <td>{'max_depth': 3, 'min_samples_split': 2}</td>\n",
       "      <td>0.925000</td>\n",
       "      <td>3</td>\n",
       "      <td>0.975</td>\n",
       "      <td>0.925</td>\n",
       "      <td>0.875</td>\n",
       "    </tr>\n",
       "    <tr>\n",
       "      <th>5</th>\n",
       "      <td>{'max_depth': 3, 'min_samples_split': 3}</td>\n",
       "      <td>0.916667</td>\n",
       "      <td>4</td>\n",
       "      <td>0.950</td>\n",
       "      <td>0.925</td>\n",
       "      <td>0.875</td>\n",
       "    </tr>\n",
       "  </tbody>\n",
       "</table>\n",
       "</div>"
      ],
      "text/plain": [
       "                                     params  mean_test_score  rank_test_score  \\\n",
       "0  {'max_depth': 1, 'min_samples_split': 2}         0.675000                5   \n",
       "1  {'max_depth': 1, 'min_samples_split': 3}         0.675000                5   \n",
       "2  {'max_depth': 2, 'min_samples_split': 2}         0.950000                1   \n",
       "3  {'max_depth': 2, 'min_samples_split': 3}         0.950000                1   \n",
       "4  {'max_depth': 3, 'min_samples_split': 2}         0.925000                3   \n",
       "5  {'max_depth': 3, 'min_samples_split': 3}         0.916667                4   \n",
       "\n",
       "   split0_test_score  split1_test_score  split2_test_score  \n",
       "0              0.675              0.675              0.675  \n",
       "1              0.675              0.675              0.675  \n",
       "2              0.975              0.925              0.950  \n",
       "3              0.975              0.925              0.950  \n",
       "4              0.975              0.925              0.875  \n",
       "5              0.950              0.925              0.875  "
      ]
     },
     "execution_count": 10,
     "metadata": {},
     "output_type": "execute_result"
    }
   ],
   "source": [
    "from sklearn.model_selection import GridSearchCV\n",
    "import pandas as pd\n",
    "\n",
    "x_train, x_test, y_train, y_test = train_test_split(iris_data.data, iris_data.target, test_size = 0.2)\n",
    "dtree = DecisionTreeClassifier()\n",
    "\n",
    "grid_dtree = GridSearchCV(dtree, param_grid=grid_parameter, cv=3, refit=True)\n",
    "grid_dtree.fit(x_train, y_train)\n",
    "\n",
    "scores_df = pd.DataFrame(grid_dtree.cv_results_)\n",
    "\n",
    "print(\"GridSearchCV 최적 파라미터:\", grid_dtree.best_params_) # 최고의 파라미터 저장\n",
    "print(\"GridSearchCV 최고 정확도:{0:.4f}\".format(grid_dtree.best_score_)) # 최고 점수 저장\n",
    "\n",
    "scores_df[['params', 'mean_test_score', 'rank_test_score', 'split0_test_score', 'split1_test_score', 'split2_test_score']]"
   ]
  },
  {
   "cell_type": "markdown",
   "id": "336cdd5f-58f1-4277-8420-d167f218a52d",
   "metadata": {},
   "source": [
    "rank_test_score의 값이 1인 것이 예측 성능이 1위라는 의미입니다.\n",
    "\n",
    "일반적으로 학습 데이터를 GridSearchCV를 이용해 최적 하이퍼 파라미터 튜닝을 수행한 뒤에 별도의 테스트 세트에서 이를 평가하는 것이 일반적인 머신러닝 모델 적용 방법입니다."
   ]
  },
  {
   "cell_type": "code",
   "execution_count": 11,
   "id": "b29a1a81-7322-4a7a-9329-c0df00aeb726",
   "metadata": {},
   "outputs": [
    {
     "name": "stdout",
     "output_type": "stream",
     "text": [
      "테스트 세트 정확도: 0.9333\n"
     ]
    }
   ],
   "source": [
    "# GridSearchCV의 refit으로 이미 학습된 estimator 반환\n",
    "estimator = grid_dtree.best_estimator_\n",
    "\n",
    "# 이미 최적 학습이 됐으므로 별도의 학습이 필요 없음\n",
    "pred = estimator.predict(x_test)\n",
    "\n",
    "print(\"테스트 세트 정확도: {0:.4f}\".format(accuracy_score(y_test, pred)))"
   ]
  },
  {
   "cell_type": "markdown",
   "id": "78fb85f5-b3de-4ad5-bb92-4e6ea3bde989",
   "metadata": {},
   "source": [
    "# 5. 데이터 전처리\n",
    "\n",
    "어떤 데이터를 입력으로 가지느냐에 따라 결과가 크게 달라집니다. 때문에 데이터 전처리는 ML 알고리즘만큼 중요합니다.\n",
    "\n",
    "결손값인 NaN, Null 값은 허용되지 않습니다.\n",
    "- Null 값이 얼마 되지 않는다면 피처의 평균값 등으로 쉽게 대체할 수 있습니다.\n",
    "- Null 값이 대부분이라면 오히려 해당 피처는 드롭하는 것이 더 좋습니다.\n",
    "- Null 값이 일정 수준 이상 되는 경우는 결정하기 힘듭니다. 해당 피처가 중요도가 높은 피처이고 Null을 단순히 피처의 평균값으로 대체할 경우 예측 왜곡이 심할 수 있기 때문입니다. 때문에 업무 로직 등을 상세히 검토해 더 정밀한 대체 값을 선정해야 합니다.\n",
    "\n",
    "문자열을 입력 값으로 허용하지 않습니다. 때문에 문자열 값은 숫자로 인코딩돼서 변환해야합니다.\n",
    "\n",
    "주민번호나 단순 문자열 아이디와 같은 경우 인코딩하지 않고 **삭제**하는 것이 더 좋습니다. 이러한 단순 식별자 피처는 데이터 로우를 식별하는 용도로 사용되어 예측에 중요한 요소가 될 수 없습니다. 때문에 알고리즘을 더 복잡하게 만들고 성능을 떨어뜨립니다.\n",
    "\n",
    "데이터 인코딩\n",
    "- Label encoding: 카테고리 피처를 코드형 숫자값으로 변환하는 방법\n",
    "- One hot encoding: 피처 값의 유형에 따라 새로운 피처를 추가해 고유 값에 해당하는 칼럼에만 1을 표시하고 나머지는 0으로 표시하는 방법"
   ]
  },
  {
   "cell_type": "code",
   "execution_count": 12,
   "id": "1ee869c5-003a-4360-86a0-1f63390ba8ec",
   "metadata": {},
   "outputs": [
    {
     "name": "stdout",
     "output_type": "stream",
     "text": [
      "레이블 변환값:  [0 1 4 2 2 3 0]\n",
      "인코딩 클래스: ['TV' '냉장고' '선풍기' '에어컨' '전자레인지']\n",
      "디코딩 원본값: ['냉장고' '에어컨' '선풍기' 'TV' 'TV' 'TV' '냉장고' '선풍기']\n"
     ]
    }
   ],
   "source": [
    "# Label Encoding\n",
    "from sklearn.preprocessing import LabelEncoder\n",
    "\n",
    "items = ['TV', '냉장고', '전자레인지', '선풍기', '선풍기', '에어컨', 'TV']\n",
    "\n",
    "# 객체 생성후 fit()과 transform()으로 인코딩 수행\n",
    "encoder = LabelEncoder()\n",
    "encoder.fit(items)\n",
    "labels = encoder.transform(items)\n",
    "\n",
    "print(\"레이블 변환값: \", labels)\n",
    "print('인코딩 클래스:', encoder.classes_)\n",
    "print('디코딩 원본값:', encoder.inverse_transform([1, 3, 2, 0, 0, 0, 1, 2]))"
   ]
  },
  {
   "cell_type": "markdown",
   "id": "61fbf8eb-4a84-42f3-ac8b-1c59cb435128",
   "metadata": {},
   "source": [
    "숫자의 크고 작음에 대한 특성이 작용하기 때문에 레이블 인코딩은 선형회귀와 같은 알고리즘에는 적용되지 않아야 합니다. 가중치가 부여되거나 더 중요하게 인식할 가능성이 발생하기 때문입니다. 트리 계열의 ML 알고리즘은 숫자의 이러한 특성을 반영하지 않으므로 상관없습니다.\n",
    "\n",
    "\n",
    "One-Hot Encoding\n",
    "1. 변환 전에 모든 문자열 값이 숫자형 값으로 변환돼야 합니다.\n",
    "2. 입력 값으로 2차원 데이터가 필요합니다."
   ]
  },
  {
   "cell_type": "code",
   "execution_count": 13,
   "id": "711804c5-9565-4f46-a2a6-47f56fc472f8",
   "metadata": {},
   "outputs": [
    {
     "name": "stdout",
     "output_type": "stream",
     "text": [
      "One-Hot encoding data\n",
      "[[1. 0. 0. 0. 0.]\n",
      " [0. 1. 0. 0. 0.]\n",
      " [0. 0. 0. 0. 1.]\n",
      " [0. 0. 1. 0. 0.]\n",
      " [0. 0. 1. 0. 0.]\n",
      " [0. 0. 0. 1. 0.]\n",
      " [1. 0. 0. 0. 0.]]\n",
      "<class 'scipy.sparse._csr.csr_matrix'>\n",
      "(7, 5)\n"
     ]
    }
   ],
   "source": [
    "from sklearn.preprocessing import OneHotEncoder\n",
    "\n",
    "# 위 과정을 통해 labels은 label encoding을 통해 문자가 숫자로 변환 됨\n",
    "labels = labels.reshape(-1, 1) # 2차원 데이터\n",
    "\n",
    "# one-hot encoding\n",
    "oh_encoder = OneHotEncoder()\n",
    "oh_encoder.fit(labels)\n",
    "oh_labels = oh_encoder.transform(labels)\n",
    "\n",
    "print('One-Hot encoding data')\n",
    "print(oh_labels.toarray())\n",
    "print(type(oh_labels))\n",
    "print(oh_labels.shape)"
   ]
  },
  {
   "cell_type": "code",
   "execution_count": 14,
   "id": "b19cc59e-8245-4464-a308-26626c293c30",
   "metadata": {},
   "outputs": [
    {
     "data": {
      "text/html": [
       "<div>\n",
       "<style scoped>\n",
       "    .dataframe tbody tr th:only-of-type {\n",
       "        vertical-align: middle;\n",
       "    }\n",
       "\n",
       "    .dataframe tbody tr th {\n",
       "        vertical-align: top;\n",
       "    }\n",
       "\n",
       "    .dataframe thead th {\n",
       "        text-align: right;\n",
       "    }\n",
       "</style>\n",
       "<table border=\"1\" class=\"dataframe\">\n",
       "  <thead>\n",
       "    <tr style=\"text-align: right;\">\n",
       "      <th></th>\n",
       "      <th>items_TV</th>\n",
       "      <th>items_냉장고</th>\n",
       "      <th>items_선풍기</th>\n",
       "      <th>items_에어컨</th>\n",
       "      <th>items_전자레인지</th>\n",
       "    </tr>\n",
       "  </thead>\n",
       "  <tbody>\n",
       "    <tr>\n",
       "      <th>0</th>\n",
       "      <td>True</td>\n",
       "      <td>False</td>\n",
       "      <td>False</td>\n",
       "      <td>False</td>\n",
       "      <td>False</td>\n",
       "    </tr>\n",
       "    <tr>\n",
       "      <th>1</th>\n",
       "      <td>False</td>\n",
       "      <td>True</td>\n",
       "      <td>False</td>\n",
       "      <td>False</td>\n",
       "      <td>False</td>\n",
       "    </tr>\n",
       "    <tr>\n",
       "      <th>2</th>\n",
       "      <td>False</td>\n",
       "      <td>False</td>\n",
       "      <td>False</td>\n",
       "      <td>False</td>\n",
       "      <td>True</td>\n",
       "    </tr>\n",
       "    <tr>\n",
       "      <th>3</th>\n",
       "      <td>False</td>\n",
       "      <td>False</td>\n",
       "      <td>True</td>\n",
       "      <td>False</td>\n",
       "      <td>False</td>\n",
       "    </tr>\n",
       "    <tr>\n",
       "      <th>4</th>\n",
       "      <td>False</td>\n",
       "      <td>False</td>\n",
       "      <td>True</td>\n",
       "      <td>False</td>\n",
       "      <td>False</td>\n",
       "    </tr>\n",
       "    <tr>\n",
       "      <th>5</th>\n",
       "      <td>False</td>\n",
       "      <td>False</td>\n",
       "      <td>False</td>\n",
       "      <td>True</td>\n",
       "      <td>False</td>\n",
       "    </tr>\n",
       "    <tr>\n",
       "      <th>6</th>\n",
       "      <td>True</td>\n",
       "      <td>False</td>\n",
       "      <td>False</td>\n",
       "      <td>False</td>\n",
       "      <td>False</td>\n",
       "    </tr>\n",
       "  </tbody>\n",
       "</table>\n",
       "</div>"
      ],
      "text/plain": [
       "   items_TV  items_냉장고  items_선풍기  items_에어컨  items_전자레인지\n",
       "0      True      False      False      False        False\n",
       "1     False       True      False      False        False\n",
       "2     False      False      False      False         True\n",
       "3     False      False       True      False        False\n",
       "4     False      False       True      False        False\n",
       "5     False      False      False       True        False\n",
       "6      True      False      False      False        False"
      ]
     },
     "execution_count": 14,
     "metadata": {},
     "output_type": "execute_result"
    }
   ],
   "source": [
    "# pandas를 이용한 원-핫 인코딩\n",
    "df = pd.DataFrame({'items' : ['TV', '냉장고', '전자레인지', '선풍기', '선풍기', '에어컨', 'TV']})\n",
    "\n",
    "pd.get_dummies(df)"
   ]
  },
  {
   "cell_type": "markdown",
   "id": "2950d725-57ef-4531-b8dd-5f3eb4b6ffe2",
   "metadata": {},
   "source": [
    "이처럼 get_dummies()를 이용하면 숫자형 값으로 변환 없이도 바로 변환이 가능합니다."
   ]
  },
  {
   "cell_type": "markdown",
   "id": "d47da881-14ad-4ce7-a1ad-d4ca84eff20c",
   "metadata": {},
   "source": [
    "피처 스케일링(feature scaling): 서로 다른 변수의 값 범위를 일정한 수준으로 맞추는 작업을 말합니다.\n",
    "- 표준화(Standardization): 데이터의 피처 각각이 평균이 0이고 분산이 1인 가우시안 정규분포를 가진 값으로 변환하는 것을 의미합니다.\n",
    " \n",
    "  $x_{i}\\_new = \\frac{x_{i}-mean(x)}{stdev(x)}$\n",
    "  \n",
    "- 정규화(Normalization): 서로 다른 피처의 크기를 통일하기 위해 크기를 변환해주는 개념입니다.\n",
    "  모두 최소 0, 최대 1의 값으로 변환하는 것입니다. 즉, 개별 데이터의 크기를 모두 똑같은 단위로 변경하는 것입니다.\n",
    "  \n",
    "  $x_{i}\\_new = \\frac{x_{i}-mean(x)}{stdev(x)}$"
   ]
  },
  {
   "cell_type": "code",
   "execution_count": null,
   "id": "6732815d-d1bd-40b6-b3db-7158243cef38",
   "metadata": {},
   "outputs": [],
   "source": []
  }
 ],
 "metadata": {
  "kernelspec": {
   "display_name": "Python 3 (ipykernel)",
   "language": "python",
   "name": "python3"
  },
  "language_info": {
   "codemirror_mode": {
    "name": "ipython",
    "version": 3
   },
   "file_extension": ".py",
   "mimetype": "text/x-python",
   "name": "python",
   "nbconvert_exporter": "python",
   "pygments_lexer": "ipython3",
   "version": "3.12.2"
  }
 },
 "nbformat": 4,
 "nbformat_minor": 5
}
