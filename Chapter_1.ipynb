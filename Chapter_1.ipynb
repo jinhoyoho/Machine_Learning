{
 "cells": [
  {
   "cell_type": "markdown",
   "id": "92b0e687-5e1b-4836-a0ee-eec8a5eb43b5",
   "metadata": {},
   "source": [
    "# Chapter 1. 파이썬 기반의 머신러닝과 생태계 이해 "
   ]
  },
  {
   "cell_type": "markdown",
   "id": "a4c29f97-ac3c-42a4-8b84-3f8018f528c4",
   "metadata": {},
   "source": [
    "# 1. 머신러닝의 개념\n",
    "\n",
    "- 머신러닝은 애플리케이션을 수정하지 않고도 데이터를 기반으로 패턴을 학습하고 결과를 예측하는 알고리즘 기법을 통칭합니다.\n",
    "\n",
    "> 지도학습\n",
    "> - 분류\n",
    "> - 회귀\n",
    "> - 추천 시스템\n",
    "> - 시각/음성 감지/인지\n",
    "> - 텍스트 분석, NLP\n",
    "\n",
    "> 비지도학습\n",
    "> - 클러스터링\n",
    "> - 차원 축소\n",
    "> - 강화학습\n",
    "\n",
    "\n",
    "머신러닝의 가장 큰 단점은 데이터에 매우 **의존적**이라는 것입니다. 가비지 인(Garbage In), 가비지 아웃(Garbage out), 즉 좋은 품질의 데이터를 갖추지 못한다면 머신러닝의 수행 결과도 좋을 수 없습니다.\n",
    "\n",
    "파이썬의 장점: 쉽고 뛰어난 개발 생산성, 많은 라이브러리, 속도는 느리지만 확장성, 유연성, 호환성이 좋습니다."
   ]
  },
  {
   "cell_type": "markdown",
   "id": "ae257431-c4ee-4257-8269-89b4246eb768",
   "metadata": {},
   "source": [
    "# 2. 파이썬 머신러닝 생태계를 구성하는 주요 패키지\n",
    "\n",
    ">- 머신러닝:Scikit-Learn\n",
    ">- 행렬/선형대수/통계:Numpy, Scipy\n",
    ">- 데이터 핸들링:Pandas\n",
    ">- 시각화:Matplotlib, Seaborn\n",
    ">- 이외에 여러 가지 서드파티 라이브러리(plug in, library를 만드는 회사), Jupyter notebook 등이 있습니다.\n",
    "\n",
    "머신러닝을 가장 빠르게 익히는 방법의 하나는 **다른 사람이 만든 소스 코드를 이해하고 그것을 자기 것으로 흡수하기 위해 많은 코드를 스스로 만들어 보는 것**입니다."
   ]
  },
  {
   "cell_type": "markdown",
   "id": "ca50ce3f-7ea7-4de7-b0ed-ae034f08d830",
   "metadata": {},
   "source": [
    "# 3. 넘파이\n",
    "Numerical Python(Numpy)\n",
    "\n",
    "루프를 사용하지 않고 대량 데이터의 배열 연산을 가능하게 하므로 빠른 배열 연산 속도를 보장합니다.\n",
    "C/C++과 같은 저수준 언어 기반의 호환 API를 제공합니다."
   ]
  },
  {
   "cell_type": "code",
   "execution_count": 4,
   "id": "4ae46bf2-5429-4673-9c8a-7a8c88e6edea",
   "metadata": {},
   "outputs": [
    {
     "name": "stdout",
     "output_type": "stream",
     "text": [
      "(3,)\n",
      "(1, 3)\n"
     ]
    }
   ],
   "source": [
    "import numpy as np\n",
    "\n",
    "# 1차원 데이터 3개\n",
    "array1 = np.array([1, 2, 3])\n",
    "print(array1.shape)\n",
    "\n",
    "# 2차원 데이터 1개의 row, 3개의 column\n",
    "array2 = np.array([[1, 2, 3]])\n",
    "print(array2.shape)"
   ]
  },
  {
   "cell_type": "markdown",
   "id": "4c269b54-49d3-4828-ace2-0db322c5f3c0",
   "metadata": {},
   "source": [
    "ndarray내의 데이터 타입은 그 연산의 특성상 같은 데이터 타입만 가능합니다.\n",
    "\n",
    "한 개의 ndarray 객체에 int와 float가 함께 있을 수 없습니다. ([2, 3.5] 불가능, dtype으로 확인가능)"
   ]
  },
  {
   "cell_type": "code",
   "execution_count": null,
   "id": "471157e2-4506-409a-81ee-c00a90675878",
   "metadata": {},
   "outputs": [],
   "source": []
  }
 ],
 "metadata": {
  "kernelspec": {
   "display_name": "Python 3 (ipykernel)",
   "language": "python",
   "name": "python3"
  },
  "language_info": {
   "codemirror_mode": {
    "name": "ipython",
    "version": 3
   },
   "file_extension": ".py",
   "mimetype": "text/x-python",
   "name": "python",
   "nbconvert_exporter": "python",
   "pygments_lexer": "ipython3",
   "version": "3.12.2"
  }
 },
 "nbformat": 4,
 "nbformat_minor": 5
}
