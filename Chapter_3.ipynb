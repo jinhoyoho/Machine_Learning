{
 "cells": [
  {
   "cell_type": "markdown",
   "metadata": {},
   "source": [
    "# Chapter 3. 평가"
   ]
  },
  {
   "cell_type": "markdown",
   "metadata": {},
   "source": [
    "성능 평가 지표(Evaluation Metric)은 회귀냐 분류나에 따라 다릅니다.\n",
    "- 회귀의 경우 대부분 실제값과 예측값의 오차 평균값에 기반합니다.\n",
    "- 분류의 성능 평가 지표\n",
    "    - 정확도(Accuracy)\n",
    "    - 오차행렬(Confusion Matrix)\n",
    "    - 정밀도(Precision)\n",
    "    - 재현율(Recall)\n",
    "    - F1 Score\n",
    "    - ROC AUC\n",
    "\n",
    "분류는 이진 분류와 멀티 분류로 나뉠 수 있는데, 특히 이진 분류에서 더욱 중요하게 강조하는 지표입니다."
   ]
  },
  {
   "cell_type": "markdown",
   "metadata": {},
   "source": [
    "## 1. 정확도(Accuracy)\n",
    "### $정확도(Accuracy) = \\frac{정답}{전체 예측}$\n",
    "정확도는 ML 모델의 성능을 왜곡할 수 있습니다."
   ]
  },
  {
   "cell_type": "code",
   "execution_count": 1,
   "metadata": {},
   "outputs": [
    {
     "name": "stdout",
     "output_type": "stream",
     "text": [
      "Dummy Classifier 정확도: 0.7430\n"
     ]
    }
   ],
   "source": [
    "# 정확도의 왜곡 확인\n",
    "# BaseEstimator를 상속받아 Customized Estimator 개발 가능\n",
    "import numpy as np\n",
    "import pandas as pd\n",
    "from sklearn.model_selection import train_test_split\n",
    "from sklearn.metrics import accuracy_score\n",
    "from sklearn.base import BaseEstimator\n",
    "\n",
    "from practice.transform import transform_features\n",
    "\n",
    "class MyDummyClassifier(BaseEstimator):\n",
    "    def fit(self, X, y=None):\n",
    "        pass\n",
    "\n",
    "    # 단순히 Sex가 1인 경우 0, 0이면 1로 예측\n",
    "    def predict(self, x):\n",
    "        pred = np.zeros((x.shape[0], 1))\n",
    "        for i in range(x.shape[0]):\n",
    "            if x['Sex'].iloc[i] == 1:\n",
    "                pred[i] = 0\n",
    "            else:\n",
    "                pred[i] = 1\n",
    "        \n",
    "        return pred\n",
    "    \n",
    "titanic_df = pd.read_csv('./dataset/titanic/train.csv')\n",
    "y_titanic_df = titanic_df['Survived']\n",
    "x_titanic_df = titanic_df.drop('Survived', axis=1)  # Survived 삭제\n",
    "x_titanic_df = transform_features(x_titanic_df)\n",
    "\n",
    "X_train, X_test, y_train, y_test = train_test_split(x_titanic_df, y_titanic_df, test_size=0.2)\n",
    "\n",
    "# DummyClass로 학습/예측/평가\n",
    "myclf = MyDummyClassifier()\n",
    "myclf.fit(X_train, y_train)\n",
    "\n",
    "myprediction = myclf.predict(X_test)\n",
    "print(\"Dummy Classifier 정확도: {0:.4f}\".format(accuracy_score(y_test, myprediction)))"
   ]
  },
  {
   "cell_type": "markdown",
   "metadata": {},
   "source": [
    "아무것도 학습시키지 않아도 74%의 정확도가 나오는 것을 확인할 수 있습니다.\n",
    "이처럼 정확도를 평가 지표로 사용할 때는 매우 신중해야 합니다. 특히 불균형한(imbalanced) 레이블 값 분포에서 ML 모델의 성능을 판단할 경우, 적합한 평가 지표가 아닙니다."
   ]
  },
  {
   "cell_type": "markdown",
   "metadata": {},
   "source": [
    "## 2. 오차 행렬\n",
    "\n",
    "오차행렬(confusion matrix, 혼동행렬)은 학습된 분류 모델이 예측을 수행하면서 얼마나 헷갈리고(confused)있는지도 함께 보여주는 지표입니다. 즉, 이진 분류의 예측 오류가 얼마인지와 더불어 어떠한 유형의 예측 오류가 발생하고 있는지를 함께 나타내는 지표입니다.\n",
    "\n",
    "- TN: 맞췄다(True), Negative(0)으로 예측해서\n",
    "- TP: 맞췄다(True), Positive(1)로 예측해서\n",
    "- FN: 틀렸다(False), Negative(0)으로 예측해서\n",
    "- FP: 틀렸다(False), Positive(1)로 예측해서"
   ]
  },
  {
   "cell_type": "code",
   "execution_count": 4,
   "metadata": {},
   "outputs": [
    {
     "name": "stdout",
     "output_type": "stream",
     "text": [
      "[[79 18]\n",
      " [28 54]]\n",
      "TN:  79\n",
      "FP:  18\n",
      "FN:  28\n",
      "TP:  54\n"
     ]
    }
   ],
   "source": [
    "from sklearn.metrics import confusion_matrix\n",
    "\n",
    "# numpy 형태로 반환\n",
    "confusion = confusion_matrix(y_test, myprediction)\n",
    "print(confusion)\n",
    "\n",
    "print(\"TN: \", confusion[0][0])\n",
    "print(\"FP: \", confusion[0][1])\n",
    "print(\"FN: \", confusion[1][0])\n",
    "print(\"TP: \", confusion[1][1])"
   ]
  },
  {
   "cell_type": "markdown",
   "metadata": {},
   "source": [
    "- 정확도 = (TN + TP) / (TN + FP + FN + TP)\n",
    "\n",
    "불균형한 레이블 클래스를 가지는 이진 분류 모델은 매우 적은 수의 결괏값에 Positive를 설정해 1값을, 그렇지 않은 경우는 Negative 0 값을 부여하는 경우가 많습니다. (ex: 사기인 경우 1, 정상이면 0)\n",
    "\n",
    "불균형한 레이블을 정확도로 평가한다면, 모두 Negative로 예측하는 경우에도 **정확도가 매우 높게 나타나는** 수치적인 판단 오류를 나타냅니다."
   ]
  },
  {
   "cell_type": "markdown",
   "metadata": {},
   "source": [
    "## 3. 정밀도와 재현율\n",
    "**정밀도**는 예측을 Positive로 한 대상 중에 예측과 실제 값이 Positive로 일치한 데이터 비율을 뜻합니다.\n",
    "- 정밀도 = TP / (FP + TP)\n",
    "\n",
    "Positive 예측 성능을 더욱 정밀하게 측정하기 위한 평가 지표로 양성 예측도로 불립니다.\n",
    "\n",
    "**재현율**은 실제 값이 Positive인 대상 중에 예측과 실제 값이 Positive로 일치한 데이터의 비율을 뜻합니다.\n",
    "- 재현율 = TP / (FN + TP)\n",
    "\n",
    "**재현율이 중요 지표인 경우는 실제 Positive 양성 데이터를 Negative로 잘못 판단하게 되면 업무상 큰 영향이 발생하는 경우입니다.**\n",
    "\n",
    "예를 들어서 암에 걸린 환자를 정상으로 판단하게 된 경우, 치명적인 실수가 발생하게 됩니다. 정상인 환자를 암 환자라고 판단하면 정밀 검사를 하면 되는 해프닝으로 마무리 됩니다.\n",
    "\n",
    "정밀도가 더 중요한 지표는 스팸메일 여부를 판단하는 모델입니다. 일반적인 메일을 스팸메일로 구분하게 된다면 업무상 차질이 생깁니다. 스팸메일을 구분하지 못하면 손으로 직접 옮기면 되는 부분입니다.\n",
    "\n",
    "- 재현율이 상대적으로 더 중요한 지표인 경우는 실제 Positive 양성인 데이터 예측을 Negative로 잘못 판단하게 되면 업무상 큰 영향이 발생하는 경우\n",
    "- 정밀도가 상대적으로 더 중요한 지표인 경우는 실제 Negative 음성인 데이터 예측을 Positive 양성으로 잘못 판단하게 되면 업무상 큰 영향이 발생하는 경우\n",
    "\n",
    "재현율과 정밀도는 TP를 올리는데 동일하지만, 재현율은 FN(실제 Positive, 예측 Negative)를 낮추는 데, 정밀도는 FP(실제 Negative, 예측 Positive)를 낮추는 데 초점을 둡니다.\n",
    "\n",
    "즉 FN을 낮추는 것을 최대한 많은 예측을, FP를 낮추는 것은 최대한 정확한 예측을 할 때 중요한 지표라고 생각하면 좋을 것 같습니다.\n",
    "\n",
    "가장 좋은 성능 평가는 재현율과 정밀도 모두 높은 수치를 얻는 것입니다."
   ]
  },
  {
   "cell_type": "code",
   "execution_count": 5,
   "metadata": {},
   "outputs": [],
   "source": [
    "from sklearn.metrics import accuracy_score, precision_score, recall_score, confusion_matrix\n",
    "\n",
    "def get_clf_eval(y_test, pred):\n",
    "    confusion = confusion_matrix(y_test, pred) # 오차행렬\n",
    "    accuracy = accuracy_score(y_test, pred) # 정확도\n",
    "    precision = precision_score(y_test, pred) # 정밀도\n",
    "    recall = recall_score(y_test, pred) # 재현율\n",
    "\n",
    "    print(\"오차 행렬\")\n",
    "    print(confusion)\n",
    "    print(\"정확도: {0:.4f}, 정밀도: {1:.4f}, 재현율: {2:.4f}\".format(accuracy, precision, recall))"
   ]
  },
  {
   "cell_type": "code",
   "execution_count": 7,
   "metadata": {},
   "outputs": [
    {
     "name": "stdout",
     "output_type": "stream",
     "text": [
      "오차 행렬\n",
      "[[86 20]\n",
      " [17 56]]\n",
      "정확도: 0.7933, 정밀도: 0.7368, 재현율: 0.7671\n"
     ]
    }
   ],
   "source": [
    "from sklearn.linear_model import LogisticRegression\n",
    "\n",
    "titanic_df = pd.read_csv(\"./dataset/titanic/train.csv\")\n",
    "y_titanic_df = titanic_df['Survived']\n",
    "x_titanic_df = titanic_df.drop('Survived', axis=1)  # Survived 삭제\n",
    "x_titanic_df = transform_features(x_titanic_df)\n",
    "\n",
    "X_train, X_test, y_train, y_test = train_test_split(x_titanic_df, y_titanic_df, test_size=0.2)\n",
    "\n",
    "lr_clf = LogisticRegression(max_iter=5000)\n",
    "lr_clf.fit(X_train, y_train)    # 학습\n",
    "pred = lr_clf.predict(X_test)   # 예측\n",
    "\n",
    "get_clf_eval(y_test, pred)  # 평가"
   ]
  },
  {
   "cell_type": "markdown",
   "metadata": {},
   "source": [
    "정밀도와 재현율은 상호 보완적인 평가 지표이기 때문에 어느 한쪽을 강제로 높이면 다른 하나의 수치는 떨어지기 쉽습니다. 이를 정밀도/재현율의 트레이드오프(Trade-off)라고 부릅니다."
   ]
  },
  {
   "cell_type": "code",
   "execution_count": 8,
   "metadata": {},
   "outputs": [
    {
     "name": "stdout",
     "output_type": "stream",
     "text": [
      "pred_proba() 결과 shape: (179, 2)\n",
      "[[0.68425063 0.31574937]\n",
      " [0.41449197 0.58550803]\n",
      " [0.83237335 0.16762665]]\n",
      "두 개의 class 중에서 더 큰 확률을 클래스 값으로 예측\n",
      " [[0.68425063 0.31574937 0.        ]\n",
      " [0.41449197 0.58550803 1.        ]\n",
      " [0.83237335 0.16762665 0.        ]]\n"
     ]
    }
   ],
   "source": [
    "# predict_proba(): 개별 데이터별로 예측 확률을 반환하는 메서드\n",
    "pred_proba = lr_clf.predict_proba(X_test)\n",
    "pred = lr_clf.predict(X_test)\n",
    "print(\"pred_proba() 결과 shape: {0}\".format(pred_proba.shape))\n",
    "print(pred_proba[:3])\n",
    "\n",
    "# 뒤에 레이블 합치기\n",
    "pred_proba_result = np.concatenate([pred_proba, pred.reshape(-1, 1)], axis = 1) \n",
    "print(\"두 개의 class 중에서 더 큰 확률을 클래스 값으로 예측\\n\", pred_proba_result[:3])"
   ]
  },
  {
   "cell_type": "code",
   "execution_count": 9,
   "metadata": {},
   "outputs": [
    {
     "name": "stdout",
     "output_type": "stream",
     "text": [
      "오차 행렬\n",
      "[[86 20]\n",
      " [17 56]]\n",
      "정확도: 0.7933, 정밀도: 0.7368, 재현율: 0.7671\n"
     ]
    }
   ],
   "source": [
    "# Binarizer 클래스를 이용하면 입력된 ndarray의 값을 지정된 threshold보다 \n",
    "# 같거나 작으면 0값으로, 크면 1값으로 변환한다\n",
    "from sklearn.preprocessing import Binarizer\n",
    "custom_threshold = 0.5\n",
    "\n",
    "# predict_proba() 변환값의 두 번째 칼럼, 즉 positive 클래스 칼럼 하나만 추출해 Binarizer 적용\n",
    "pred_proba_1 = pred_proba[:, 1].reshape(-1, 1)\n",
    "\n",
    "# custom_threshold를 이용하여 값 변환\n",
    "binarizer = Binarizer(threshold = custom_threshold).fit(pred_proba_1)\n",
    "custom_predict = binarizer.transform(pred_proba_1)\n",
    "\n",
    "get_clf_eval(y_test, custom_predict) # 같은 값을 얻는 것을 볼 수 있다."
   ]
  },
  {
   "cell_type": "code",
   "execution_count": 10,
   "metadata": {},
   "outputs": [
    {
     "name": "stdout",
     "output_type": "stream",
     "text": [
      "오차 행렬\n",
      "[[81 25]\n",
      " [13 60]]\n",
      "정확도: 0.7877, 정밀도: 0.7059, 재현율: 0.8219\n"
     ]
    }
   ],
   "source": [
    "custom_threshold = 0.4 # threshold 값을 0.4로 변환\n",
    "\n",
    "# predict_proba() 변환값의 두 번째 칼럼, 즉 positive 클래스 칼럼 하나만 추출해 Binarizer 적용\n",
    "pred_proba_1 = pred_proba[:, 1].reshape(-1, 1)\n",
    "\n",
    "# custom_threshold를 이용하여 값 변환\n",
    "binarizer = Binarizer(threshold = custom_threshold).fit(pred_proba_1)\n",
    "custom_predict = binarizer.transform(pred_proba_1)\n",
    "\n",
    "get_clf_eval(y_test, custom_predict)"
   ]
  },
  {
   "cell_type": "markdown",
   "metadata": {},
   "source": [
    "재현율 값이 올라가고 정밀도가 떨어졌습니다. 임계값을 낮출수록 True 값이 많아지게 됩니다.\n",
    "\n",
    "Positive 예측값이 많아지면 상대적으로 재현율 값이 높아집니다. 양성 예측을 많이 하다 보니 실제 양성을 음성으로 예측하는 횟수가 상대적으로 줄어들기 때문입니다."
   ]
  },
  {
   "cell_type": "code",
   "execution_count": 13,
   "metadata": {},
   "outputs": [
    {
     "name": "stdout",
     "output_type": "stream",
     "text": [
      "임계값:  0.4\n",
      "오차 행렬\n",
      "[[81 25]\n",
      " [13 60]]\n",
      "정확도: 0.7877, 정밀도: 0.7059, 재현율: 0.8219\n",
      "\n",
      "임계값:  0.45\n",
      "오차 행렬\n",
      "[[84 22]\n",
      " [14 59]]\n",
      "정확도: 0.7989, 정밀도: 0.7284, 재현율: 0.8082\n",
      "\n",
      "임계값:  0.5\n",
      "오차 행렬\n",
      "[[86 20]\n",
      " [17 56]]\n",
      "정확도: 0.7933, 정밀도: 0.7368, 재현율: 0.7671\n",
      "\n",
      "임계값:  0.55\n",
      "오차 행렬\n",
      "[[92 14]\n",
      " [19 54]]\n",
      "정확도: 0.8156, 정밀도: 0.7941, 재현율: 0.7397\n",
      "\n",
      "임계값:  0.6\n",
      "오차 행렬\n",
      "[[97  9]\n",
      " [22 51]]\n",
      "정확도: 0.8268, 정밀도: 0.8500, 재현율: 0.6986\n",
      "\n"
     ]
    }
   ],
   "source": [
    "threshold = [0.4, 0.45, 0.5, 0.55, 0.6]\n",
    "\n",
    "def get_eval_by_threshold(y_test, pred_proba_c1, threshold):\n",
    "    for custom_threshold in threshold:\n",
    "        binarizer = Binarizer(threshold=custom_threshold).fit(pred_proba_c1)\n",
    "        custom_predict = binarizer.transform(pred_proba_c1)\n",
    "        print(\"임계값: \", custom_threshold)\n",
    "        get_clf_eval(y_test, custom_predict)\n",
    "        print()\n",
    "\n",
    "get_eval_by_threshold(y_test, pred_proba[:, 1].reshape(-1, 1), threshold)"
   ]
  },
  {
   "cell_type": "markdown",
   "metadata": {},
   "source": [
    "이와 비슷한 API는 precision_recall_curve() 입니다.\n",
    "- 입력 파라미터\n",
    "    - y_true: 실제 클래스값 배열\n",
    "    - probas_pred: Positive 칼럼의 예측 확률 배열\n",
    "- 반환 값\n",
    "    - 정밀도: 임계값별 정밀도 값을 배열로 반환\n",
    "    - 재현율: 임계값별 재현율 값을 배열로 반환"
   ]
  },
  {
   "cell_type": "code",
   "execution_count": 16,
   "metadata": {},
   "outputs": [
    {
     "name": "stdout",
     "output_type": "stream",
     "text": [
      "반환된 분류 결정 임곗값 배열의 shape:  (173,)\n",
      "추출한 index 10개:  [  0  15  30  45  60  75  90 105 120 135 150 165]\n",
      "추출한 threshold 값:  [0.0394482  0.08627341 0.11214284 0.13540628 0.16140591 0.2501779\n",
      " 0.42424275 0.55147642 0.62888424 0.77622988 0.87787452 0.93968754]\n",
      "임계값별 정밀도:  [0.408 0.445 0.486 0.538 0.591 0.657 0.714 0.794 0.906 0.947 0.957 1.   ]\n",
      "임계값별 재현율:  [1.    1.    0.973 0.959 0.932 0.89  0.822 0.74  0.658 0.493 0.301 0.11 ]\n"
     ]
    }
   ],
   "source": [
    "from sklearn.metrics import precision_recall_curve\n",
    "\n",
    "# 레이블 값이 1일 때의 예측 확률 추출\n",
    "pred_proba_class1 = lr_clf.predict_proba(X_test)[:, 1]\n",
    "\n",
    "precision, recall, thresholds = precision_recall_curve(y_test, pred_proba_class1)\n",
    "print(\"반환된 분류 결정 임곗값 배열의 shape: \", thresholds.shape)\n",
    "\n",
    "thr_index = np.arange(0, thresholds.shape[0], 15) # 15씩 증가\n",
    "print(\"추출한 index 10개: \", thr_index)\n",
    "print(\"추출한 threshold 값: \", thresholds[thr_index])\n",
    "\n",
    "print(\"임계값별 정밀도: \", np.round(precision[thr_index], 3))\n",
    "print(\"임계값별 재현율: \", np.round(recall[thr_index], 3))"
   ]
  },
  {
   "cell_type": "markdown",
   "metadata": {},
   "source": [
    "임곗값이 증가할수록 정밀도가 증가하지만 재현율 값은 낮아짐을 알 수 있습니다."
   ]
  },
  {
   "cell_type": "code",
   "execution_count": 27,
   "metadata": {},
   "outputs": [
    {
     "data": {
      "image/png": "[encoded data removed]",
      "text/plain": [
       "<Figure size 800x600 with 1 Axes>"
      ]
     },
     "metadata": {},
     "output_type": "display_data"
    }
   ],
   "source": [
    "import matplotlib.pyplot as plt\n",
    "import matplotlib.ticker as xticks\n",
    "\n",
    "def precision_recall_curve_plot(y_test, pred_proba_c1):\n",
    "    # threshold에 따른 정밀도, 재현율 추출\n",
    "    precisions, recalls, thresholds = precision_recall_curve(y_test, pred_proba_c1)\n",
    "\n",
    "    # x축: threshold\n",
    "    # y축: 정밀도, 재현율\n",
    "    # 정밀도는 점선으로 표현\n",
    "    plt.figure(figsize=(8,6))\n",
    "    threshold_boundary = thresholds.shape[0]\n",
    "    plt.plot(thresholds, precisions[0:threshold_boundary], linestyle='--', label='precision')\n",
    "    plt.plot(thresholds, recalls[0:threshold_boundary], label = 'recall')\n",
    "\n",
    "    # x축의 scale을 0.1 단위로 설정\n",
    "    start, end = plt.xlim() \n",
    "    plt.xticks(np.round(np.arange(start, end, 0.1), 2))\n",
    "\n",
    "    plt.xlabel(\"Treshold value\")\n",
    "    plt.ylabel(\"Precision and recall\")\n",
    "    plt.legend()\n",
    "    plt.grid()\n",
    "    plt.show()\n",
    "\n",
    "precision_recall_curve_plot(y_test, lr_clf.predict_proba(X_test)[:, 1])"
   ]
  },
  {
   "cell_type": "markdown",
   "metadata": {},
   "source": [
    "두 개의 수치를 상호 보완할 수 있는 수준에서 적용돼야 합니다. 그렇지 않고 단순히 하나의 성능 지표 수치를 높이기 위한 수단으로 사용해서는 안 됩니다.\n",
    "\n",
    "- 정밀도가 100%가 되는 방법: 확실한 기준이 되는 경우만 Positive로 예측하고 나머지는 모두 Negative로 예측합니다.\n",
    "- 재현율이 100%가 되는 방법: 모든 경우를 Positive로 예측합니다.\n",
    "\n",
    "이처럼 정밀도와 재현율 성능 수치도 어느 한쪽만 참조하면 극단적인 수치 조작이 가능합니다."
   ]
  },
  {
   "cell_type": "markdown",
   "metadata": {},
   "source": [
    "## 4. F1 Score\n",
    "F1 score는 정밀도와 재현율을 결합한 지표입니다. 어느 한 쪽으로 치우치지 않는 수치를 나타낼 때 상대적으로 높은 값을 갖습니다.\n",
    "\n",
    "### $F1 = \\frac{2}{\\frac{1}{recall} + \\frac{1}{precision}} = 2 * \\frac{precision * recall}{precision + recall}$"
   ]
  },
  {
   "cell_type": "code",
   "execution_count": 23,
   "metadata": {},
   "outputs": [
    {
     "name": "stdout",
     "output_type": "stream",
     "text": [
      "F1 score: 0.7517\n"
     ]
    }
   ],
   "source": [
    "from sklearn.metrics import f1_score\n",
    "f1 = f1_score(y_test, pred)\n",
    "print(\"F1 score: {0:.4f}\".format(f1))"
   ]
  },
  {
   "cell_type": "code",
   "execution_count": 24,
   "metadata": {},
   "outputs": [
    {
     "name": "stdout",
     "output_type": "stream",
     "text": [
      "임계값:  0.4\n",
      "오차 행렬\n",
      "[[81 25]\n",
      " [13 60]]\n",
      "정확도: 0.7877, 정밀도: 0.7059, 재현율: 0.8219, F1: 0.7595\n",
      "\n",
      "임계값:  0.45\n",
      "오차 행렬\n",
      "[[84 22]\n",
      " [14 59]]\n",
      "정확도: 0.7989, 정밀도: 0.7284, 재현율: 0.8082, F1: 0.7662\n",
      "\n",
      "임계값:  0.5\n",
      "오차 행렬\n",
      "[[86 20]\n",
      " [17 56]]\n",
      "정확도: 0.7933, 정밀도: 0.7368, 재현율: 0.7671, F1: 0.7517\n",
      "\n",
      "임계값:  0.55\n",
      "오차 행렬\n",
      "[[92 14]\n",
      " [19 54]]\n",
      "정확도: 0.8156, 정밀도: 0.7941, 재현율: 0.7397, F1: 0.7660\n",
      "\n",
      "임계값:  0.6\n",
      "오차 행렬\n",
      "[[97  9]\n",
      " [22 51]]\n",
      "정확도: 0.8268, 정밀도: 0.8500, 재현율: 0.6986, F1: 0.7669\n",
      "\n"
     ]
    }
   ],
   "source": [
    "# F1 score 추가\n",
    "\n",
    "def get_clf_eval(y_test, pred):\n",
    "    confusion = confusion_matrix(y_test, pred) # 오차행렬\n",
    "    accuracy = accuracy_score(y_test, pred) # 정확도\n",
    "    precision = precision_score(y_test, pred) # 정밀도\n",
    "    recall = recall_score(y_test, pred) # 재현율\n",
    "\n",
    "    f1 = f1_score(y_test, pred) # F1 score\n",
    "\n",
    "    print(\"오차 행렬\")\n",
    "    print(confusion)\n",
    "    print(\"정확도: {0:.4f}, 정밀도: {1:.4f}, 재현율: {2:.4f}, F1: {3:.4f}\".format(accuracy, precision, recall, f1))\n",
    "\n",
    "thresholds = [0.4, 0.45, 0.5, 0.55, 0.6]\n",
    "pred_proba = lr_clf.predict_proba(X_test)\n",
    "get_eval_by_threshold(y_test, pred_proba[:, 1].reshape(-1, 1), thresholds)"
   ]
  },
  {
   "cell_type": "markdown",
   "metadata": {},
   "source": [
    "## 5. ROC 곡선과 AUC\n",
    "ROC와 AUC는 이진 분류의 예측 성능 측정에서 중요하게 사용되는 지표입니다.\n",
    "\n",
    "ROC 곡선(Receiver Operation Characteristic Curve, 수신자 판단 곡선): FPR(False Positive Rate)이 변할 때 TPR(True Positive Rate)가 어떻게 변하는지를 나타내는 곡선입니다.\n",
    "- TPR = Recall 즉, 재현율입니다. '민감도'라고도 불립니다. (질병이 있는 사람은 질병이 있는 것으로 판정)\n",
    "- TNR은 특이성(specificity)이라고도 불리며 민감도에 대응하는 지표입니다. 실제값 Negative가 정확히 예측돼야 하는 수준을 나타냅니다. (질병이 없는 사람은 질병이 없는 것으로 판정)\n",
    "\n",
    "### $TNR = \\frac{TN}{(FP+TN)}$\n",
    "### $FPR = \\frac{FP}{(FP+TN)} = 1 - TNR = 1 - 특이성$\n",
    "\n",
    "ROC 곡선이 가운데 직선에 가까울수록 성능이 떨어지는 것이며, 멀어질수록 성능이 뛰어난 것입니다.\n",
    "\n",
    "분류 결정 임곗값을 변경하면 FPR도 변경할 수 있습니다. \n",
    "분류 결정 임계값은 Positive 예측값을 결정하는 확률의 기준이기 때문에 FPR을 0으로 만들려면 임곗값을 1로 지정하면 됩니다. 반대로 TN을 0으로 만들면 FPR을 1로 만들 수 있습니다.\n",
    "\n",
    "사이킷런은 roc_curve() API를 제공합니다.\n",
    "- 입력 파라미터\n",
    "    - y_true: 실제 클래스 값 array (array shape = [데이터 건수])\n",
    "    - y_score: predict_proba()의 반환 값 array에서 Positive column이 보통 사용 됨. (array shape = [n_samples])\n",
    "\n",
    "- 반환 값\n",
    "    - fpr: fpr 값을 array로 반환\n",
    "    - tpr: tpr 값을 array로 반환\n",
    "    - thresholds: threshold 값 array"
   ]
  },
  {
   "cell_type": "code",
   "execution_count": 26,
   "metadata": {},
   "outputs": [
    {
     "name": "stdout",
     "output_type": "stream",
     "text": [
      "thresholds[0]:  1.965501786053236\n",
      "thresholds 임계값:  [ 1  6 11 16 21 26 31 36 41 46 51 56 61]\n",
      "index에 따른 임계값:  [0.96550179 0.77367881 0.63903702 0.58550803 0.54279379 0.49147586\n",
      " 0.3798608  0.31574937 0.21000019 0.17603963 0.11597855 0.10236839\n",
      " 0.0394482 ]\n",
      "FPR:  [0.    0.019 0.047 0.104 0.151 0.198 0.245 0.283 0.368 0.396 0.67  0.755\n",
      " 1.   ]\n",
      "TPR:  [0.014 0.507 0.63  0.712 0.74  0.808 0.836 0.877 0.89  0.932 0.959 0.986\n",
      " 1.   ]\n"
     ]
    }
   ],
   "source": [
    "from sklearn.metrics import roc_curve\n",
    "\n",
    "pred_proba_class1 = lr_clf.predict_proba(X_test)[:, 1]  # 레이블 값이 1일때의 예측 확률을 추출\n",
    "\n",
    "fprs, tprs, thresholds = roc_curve(y_test, pred_proba_class1)\n",
    "\n",
    "# thresholds[0]은 max(예측확률)+1로 임의 설정 됨. 이를 제외하기 위해서는 1부터 시작\n",
    "print(\"thresholds[0]: \", thresholds[0])\n",
    "\n",
    "\n",
    "thr_index = np.arange(1, thresholds.shape[0], 5)\n",
    "print(\"thresholds 임계값: \", thr_index)\n",
    "print(\"index에 따른 임계값: \", thresholds[thr_index])\n",
    "\n",
    "print(\"FPR: \", np.round(fprs[thr_index], 3))\n",
    "print(\"TPR: \", np.round(tprs[thr_index], 3))"
   ]
  },
  {
   "cell_type": "code",
   "execution_count": 28,
   "metadata": {},
   "outputs": [
    {
     "data": {
      "image/png": "[encoded data removed]",
      "text/plain": [
       "<Figure size 640x480 with 1 Axes>"
      ]
     },
     "metadata": {},
     "output_type": "display_data"
    }
   ],
   "source": [
    "import matplotlib.ticker as ticks\n",
    "\n",
    "def roc_curve_plot(y_test, pred_proba_c1):\n",
    "    # 임곗값에 따른 FPR, TPR\n",
    "    fprs, tprs, thresholds = roc_curve(y_test, pred_proba_c1)\n",
    "\n",
    "    # ROC 곡선 그리기\n",
    "    plt.plot(fprs, tprs, label = \"ROC\")\n",
    "\n",
    "    # 가운데 직선을 그림\n",
    "    plt.plot([0,1], [0,1], 'k--', label = \"Random\")\n",
    "\n",
    "    # x축의 scale을 0.1 단위로 설정\n",
    "    start, end = plt.xlim() \n",
    "    plt.xticks(np.round(np.arange(start, end, 0.1), 2))\n",
    "\n",
    "    plt.xlabel(\"FPR(1-Sensitivity)\")\n",
    "    plt.ylabel(\"TPR(Recall)\")\n",
    "    plt.legend()\n",
    "    plt.grid()\n",
    "    plt.show()\n",
    "\n",
    "roc_curve_plot(y_test, pred_proba[:, 1])"
   ]
  },
  {
   "cell_type": "markdown",
   "metadata": {},
   "source": [
    "AUC(Area Under Curve) 값은 ROC 곡선의 밑 면적을 구한 것으로서 일반적으로 1에 가까울수록 좋은 수치입니다.\n",
    "AUC가 커지려면 FPR이 작은 상태에서 얼마나 큰 TPR을 얻을 수 있느냐가 관건입니다. 가운데 직선에서 멀어지고 왼쪽 상단 모서리 쪽으로 가파르게 곡선이 이동할수록 직사각형에 가까운 곡선이 되어 면적이 1에 가까워지는 좋은 ROC AUC 성능 수치를 얻게 됩니다."
   ]
  },
  {
   "cell_type": "code",
   "execution_count": 29,
   "metadata": {},
   "outputs": [
    {
     "name": "stdout",
     "output_type": "stream",
     "text": [
      "ROC AUC 값: 0.8898\n"
     ]
    }
   ],
   "source": [
    "from sklearn.metrics import roc_auc_score\n",
    "\n",
    "pred_proba = lr_clf.predict_proba(X_test)[:, 1]\n",
    "roc_score = roc_auc_score(y_test, pred_proba)\n",
    "print('ROC AUC 값: {0:.4f}'.format(roc_score))"
   ]
  }
 ],
 "metadata": {
  "kernelspec": {
   "display_name": "ml",
   "language": "python",
   "name": "ml"
  },
  "language_info": {
   "codemirror_mode": {
    "name": "ipython",
    "version": 3
   },
   "file_extension": ".py",
   "mimetype": "text/x-python",
   "name": "python",
   "nbconvert_exporter": "python",
   "pygments_lexer": "ipython3",
   "version": "3.11.8"
  }
 },
 "nbformat": 4,
 "nbformat_minor": 2
}
